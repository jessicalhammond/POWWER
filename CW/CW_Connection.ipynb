{
 "cells": [
  {
   "cell_type": "code",
   "execution_count": 7,
   "metadata": {},
   "outputs": [],
   "source": [
    "# SQL Alchemy\n",
    "import sqlalchemy\n",
    "from sqlalchemy import create_engine, inspect\n",
    "from sqlalchemy.ext.automap import automap_base\n",
    "from sqlalchemy.orm import Session\n",
    "from sqlalchemy.engine import reflection\n",
    "\n",
    "#import egnine\n",
    "from config import engine_url\n",
    "\n",
    "# PyMySQL \n",
    "import pymysql\n",
    "pymysql.install_as_MySQLdb()\n",
    "\n",
    "# Pandas\n",
    "import pandas as pd"
   ]
  },
  {
   "cell_type": "code",
   "execution_count": 8,
   "metadata": {},
   "outputs": [],
   "source": [
    "engine = create_engine(engine_url)\n",
    "con = engine.connect()"
   ]
  },
  {
   "cell_type": "code",
   "execution_count": 9,
   "metadata": {},
   "outputs": [
    {
     "name": "stdout",
     "output_type": "stream",
     "text": [
      "Enter the Firm ID1\n"
     ]
    }
   ],
   "source": [
    "firm_id = input('Enter the Firm ID')\n",
    "# sql to get addresses\n",
    "sql_address = \"\"\" SELECT p.id as person_id, \n",
    "        pdata.street, \n",
    "        pdata.street_2, pdata.city,\n",
    "        pdata.state,\n",
    "        pdata.postal_code,\n",
    "        pdata.country,\n",
    "        reg.name as region,\n",
    "        if(pdata.id = p.preferred_address_id, \"preferred\",\"\") as preferred\n",
    "        from `people` as p\n",
    "        inner join person_addresses as pdata on p.id = pdata.person_id\n",
    "        left join regions as reg on pdata.`region_id` = reg.id\n",
    "        left join location_types as loc on pdata.location_type_id = loc.id\n",
    "        where p.firm_id = %s\n",
    "        order by person_id \"\"\"\n",
    "address_df = pd.read_sql_query(sql_address, con, params=[firm_id])\n",
    "address_df.to_csv(\"address.csv\", sep='\\t', encoding='utf-8')"
   ]
  },
  {
   "cell_type": "code",
   "execution_count": 11,
   "metadata": {},
   "outputs": [
    {
     "name": "stdout",
     "output_type": "stream",
     "text": [
      "Enter Firm ID1\n"
     ]
    }
   ],
   "source": [
    "firm_id = input('Enter Firm ID')\n",
    "# SQL to split out email\n",
    "sql_email = \"\"\" SELECT p.id as person_id,\n",
    "            pdata.`address` as email,\n",
    "            loc.name as type,\n",
    "            if(pdata.id = p.preferred_email_address_id, \"preferred\",\"\") as preferred\n",
    "            from `people` as p\n",
    "            inner join person_email_addresses as pdata on p.id = pdata.person_id\n",
    "            left join location_types as loc on pdata.location_type_id = loc.id\n",
    "            where p.firm_id = %s\n",
    "            order by person_id\"\"\"\n",
    "email_df = pd.read_sql_query(sql_email, con, params=[firm_id])\n",
    "email_df.to_csv(\"email.csv\", sep='\\t', encoding='utf-8')"
   ]
  },
  {
   "cell_type": "code",
   "execution_count": 12,
   "metadata": {},
   "outputs": [
    {
     "name": "stdout",
     "output_type": "stream",
     "text": [
      "Enter Firm ID1\n"
     ]
    }
   ],
   "source": [
    "firm_id = input('Enter Firm ID')\n",
    "# SQL to split out Phone Number\n",
    "sql_phone = \"\"\"SELECT p.id as person_id,\n",
    "            pdata.digits as phone,\n",
    "            pdata.extension as extension,\n",
    "            loc.name as type,\n",
    "            if(pdata.id = p.preferred_phone_number_id, \"preferred\",\"\") as preferred\n",
    "            from `people` as p\n",
    "            inner join person_phone_numbers as pdata on p.id = pdata.person_id\n",
    "            left join location_types as loc on pdata.location_type_id = loc.id\n",
    "            where p.firm_id = %s\n",
    "            order by person_id\"\"\"\n",
    "phone_df = pd.read_sql_query(sql_phone, con, params=[firm_id])\n",
    "phone_df.to_csv(\"phone.csv\", sep='\\t', encoding='utf-8')"
   ]
  },
  {
   "cell_type": "code",
   "execution_count": null,
   "metadata": {},
   "outputs": [],
   "source": [
    "# address_df"
   ]
  },
  {
   "cell_type": "code",
   "execution_count": null,
   "metadata": {},
   "outputs": [],
   "source": [
    "# insp = reflection.Inspector.from_engine(engine)\n",
    "# print(insp.get_table_names())"
   ]
  },
  {
   "cell_type": "code",
   "execution_count": null,
   "metadata": {},
   "outputs": [],
   "source": [
    "# insp.get_columns('projects', schema=None)\n"
   ]
  },
  {
   "cell_type": "code",
   "execution_count": null,
   "metadata": {},
   "outputs": [],
   "source": []
  },
  {
   "cell_type": "code",
   "execution_count": null,
   "metadata": {},
   "outputs": [],
   "source": []
  },
  {
   "cell_type": "code",
   "execution_count": null,
   "metadata": {},
   "outputs": [],
   "source": []
  },
  {
   "cell_type": "code",
   "execution_count": null,
   "metadata": {},
   "outputs": [],
   "source": []
  }
 ],
 "metadata": {
  "kernelspec": {
   "display_name": "Python 3",
   "language": "python",
   "name": "python3"
  },
  "language_info": {
   "codemirror_mode": {
    "name": "ipython",
    "version": 3
   },
   "file_extension": ".py",
   "mimetype": "text/x-python",
   "name": "python",
   "nbconvert_exporter": "python",
   "pygments_lexer": "ipython3",
   "version": "3.6.4"
  }
 },
 "nbformat": 4,
 "nbformat_minor": 2
}
